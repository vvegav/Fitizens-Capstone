{
 "cells": [
  {
   "cell_type": "markdown",
   "metadata": {
    "id": "7LqHGkGEVqpm"
   },
   "source": [
    "## Install MMAction2"
   ]
  },
  {
   "cell_type": "code",
   "execution_count": 1,
   "metadata": {
    "colab": {
     "base_uri": "https://localhost:8080/"
    },
    "id": "Bf8PpPXtVvmg",
    "outputId": "b306c269-0378-4a47-f0e3-113f727ad866",
    "executionInfo": {
     "status": "ok",
     "timestamp": 1707476096847,
     "user_tz": -60,
     "elapsed": 5,
     "user": {
      "displayName": "Jorge Garcia",
      "userId": "05585416730995504690"
     }
    },
    "ExecuteTime": {
     "end_time": "2024-02-10T12:42:14.921412100Z",
     "start_time": "2024-02-10T12:42:14.686936300Z"
    }
   },
   "outputs": [
    {
     "name": "stdout",
     "output_type": "stream",
     "text": [
      "nvcc: NVIDIA (R) Cuda compiler driver\n",
      "Copyright (c) 2005-2023 NVIDIA Corporation\n",
      "Built on Tue_Jun_13_19:42:34_Pacific_Daylight_Time_2023\n",
      "Cuda compilation tools, release 12.2, V12.2.91\n",
      "Build cuda_12.2.r12.2/compiler.32965470_0\n"
     ]
    },
    {
     "name": "stderr",
     "output_type": "stream",
     "text": [
      "'gcc' is not recognized as an internal or external command,\n",
      "operable program or batch file.\n"
     ]
    }
   ],
   "source": [
    "# Check nvcc version\n",
    "!nvcc -V\n",
    "# Check GCC version\n",
    "!gcc --version"
   ]
  },
  {
   "cell_type": "code",
   "execution_count": 8,
   "metadata": {
    "id": "5PAJ4ArzV5Ry",
    "ExecuteTime": {
     "end_time": "2024-02-10T13:02:13.146750500Z",
     "start_time": "2024-02-10T13:02:02.962131Z"
    }
   },
   "outputs": [
    {
     "name": "stdout",
     "output_type": "stream",
     "text": [
      "J:\\PERSONAL\\CURSOS\\CAPSTONE-FITIZENS\\notebooks\\mmaction2\n"
     ]
    },
    {
     "name": "stderr",
     "output_type": "stream",
     "text": [
      "Cloning into 'mmaction2'...\n",
      "C:\\Users\\jorge\\AppData\\Roaming\\Python\\Python310\\site-packages\\IPython\\core\\magics\\osm.py:417: UserWarning: using dhist requires you to install the `pickleshare` library.\n",
      "  self.shell.db['dhist'] = compress_dhist(dhist)[-100:]\n"
     ]
    }
   ],
   "source": [
    "# Install mmaction2\n",
    "!git clone https://github.com/open-mmlab/mmaction2.git\n",
    "%cd mmaction2"
   ]
  },
  {
   "cell_type": "code",
   "execution_count": null,
   "outputs": [],
   "source": [
    "!pip install -e .\n",
    "\n",
    "# Install some optional requirements\n",
    "!pip install -r requirements/optional.txt"
   ],
   "metadata": {
    "collapsed": false
   }
  },
  {
   "cell_type": "code",
   "execution_count": 2,
   "metadata": {
    "colab": {
     "base_uri": "https://localhost:8080/"
    },
    "id": "No_zZAFpWC-a",
    "outputId": "2edfa610-75e7-4b60-e63b-5c9f73b6d8c9",
    "executionInfo": {
     "status": "ok",
     "timestamp": 1707476456074,
     "user_tz": -60,
     "elapsed": 5416,
     "user": {
      "displayName": "Jorge Garcia",
      "userId": "05585416730995504690"
     }
    },
    "ExecuteTime": {
     "end_time": "2024-02-10T13:10:05.494251800Z",
     "start_time": "2024-02-10T13:10:01.902105500Z"
    }
   },
   "outputs": [
    {
     "name": "stdout",
     "output_type": "stream",
     "text": [
      "2.2.0 True\n"
     ]
    }
   ],
   "source": [
    "# Check Pytorch installation\n",
    "import torch, torchvision\n",
    "print(torch.__version__, torch.cuda.is_available())"
   ]
  },
  {
   "cell_type": "code",
   "execution_count": 1,
   "outputs": [
    {
     "name": "stdout",
     "output_type": "stream",
     "text": [
      "1.2.0\n"
     ]
    }
   ],
   "source": [
    "# Check MMAction2 installation\n",
    "import mmaction\n",
    "print(mmaction.__version__)"
   ],
   "metadata": {
    "collapsed": false,
    "ExecuteTime": {
     "end_time": "2024-02-10T13:10:01.344803700Z",
     "start_time": "2024-02-10T13:09:58.717800900Z"
    }
   }
  },
  {
   "cell_type": "code",
   "execution_count": 13,
   "outputs": [
    {
     "name": "stdout",
     "output_type": "stream",
     "text": [
      "not available\n",
      "MSVC 192729111\n"
     ]
    }
   ],
   "source": [
    "# Check MMCV installation\n",
    "from mmcv.ops import get_compiling_cuda_version, get_compiler_version\n",
    "print(get_compiling_cuda_version())\n",
    "print(get_compiler_version())"
   ],
   "metadata": {
    "collapsed": false,
    "ExecuteTime": {
     "end_time": "2024-02-10T13:08:56.623939300Z",
     "start_time": "2024-02-10T13:08:56.613420500Z"
    }
   }
  },
  {
   "cell_type": "code",
   "execution_count": null,
   "outputs": [],
   "source": [
    "# Check MMEngine installation\n",
    "from mmengine.utils.dl_utils import collect_env\n",
    "print(collect_env())"
   ],
   "metadata": {
    "collapsed": false
   }
  },
  {
   "cell_type": "markdown",
   "metadata": {
    "id": "pXf7oV5DWdab"
   },
   "source": [
    "## Perform inference with a MMAction2 recognizer\n",
    "MMAction2 already provides high level APIs to do inference and training."
   ]
  },
  {
   "cell_type": "code",
   "source": [
    "# !mkdir checkpoints\n",
    "!wget -c https://download.openmmlab.com/mmaction/v1.0/recognition/uniformerv2/kinetics600/uniformerv2-large-p14-res224_clip-kinetics710-pre_u8_kinetics600-rgb_20221219-cf88e4c2.pth \\\n",
    "      -O checkpoints/uniformerv2-large-p14-res224_clip-kinetics710-pre_u8_kinetics600-rgb_20221219-cf88e4c2.pth"
   ],
   "metadata": {
    "colab": {
     "base_uri": "https://localhost:8080/"
    },
    "id": "1-EZ7NLlilTu",
    "executionInfo": {
     "status": "ok",
     "timestamp": 1707476938090,
     "user_tz": -60,
     "elapsed": 198927,
     "user": {
      "displayName": "Jorge Garcia",
      "userId": "05585416730995504690"
     }
    },
    "outputId": "2bb3702f-8f92-4c06-8323-2e6959445a1e",
    "ExecuteTime": {
     "end_time": "2024-02-10T12:27:56.479453200Z",
     "start_time": "2024-02-10T12:24:44.859455100Z"
    }
   },
   "execution_count": 12,
   "outputs": [
    {
     "name": "stderr",
     "output_type": "stream",
     "text": [
      "A subdirectory or file checkpoints already exists.\n"
     ]
    },
    {
     "name": "stdout",
     "output_type": "stream",
     "text": [
      "^C\n"
     ]
    }
   ]
  },
  {
   "cell_type": "code",
   "source": [
    "%pip install timm"
   ],
   "metadata": {
    "id": "El52jTYDjrJX"
   },
   "execution_count": null,
   "outputs": []
  },
  {
   "cell_type": "code",
   "source": [
    "from mmaction.apis import inference_recognizer, init_recognizer\n",
    "from mmengine import Config\n",
    "\n",
    "# Choose to use a config and initialize the recognizer\n",
    "config = 'mmaction2/configs/recognition/uniformerv2/uniformerv2-large-p14-res224_clip-kinetics710-pre_u8_kinetics600-rgb.py'\n",
    "config = Config.fromfile(config)\n",
    "# Setup a checkpoint file to load\n",
    "checkpoint = 'checkpoints/uniformerv2-large-p14-res224_clip-kinetics710-pre_u8_kinetics600-rgb_20221219-cf88e4c2.pth'\n",
    "# Initialize the recognizer\n",
    "model = init_recognizer(config, checkpoint, device='cuda:0')"
   ],
   "metadata": {
    "colab": {
     "base_uri": "https://localhost:8080/"
    },
    "id": "-lR1avrjjEDK",
    "executionInfo": {
     "status": "ok",
     "timestamp": 1707477005840,
     "user_tz": -60,
     "elapsed": 5900,
     "user": {
      "displayName": "Jorge Garcia",
      "userId": "05585416730995504690"
     }
    },
    "outputId": "6bac0901-333d-4fa2-a4df-61ef1be76d4d",
    "ExecuteTime": {
     "end_time": "2024-02-10T13:13:26.747230800Z",
     "start_time": "2024-02-10T13:13:10.584621600Z"
    }
   },
   "execution_count": 5,
   "outputs": [
    {
     "name": "stdout",
     "output_type": "stream",
     "text": [
      "02/10 14:13:17 - mmengine - \u001B[4m\u001B[97mINFO\u001B[0m - Drop path rate: 0.0\n",
      "02/10 14:13:17 - mmengine - \u001B[4m\u001B[97mINFO\u001B[0m - No L_MHRA: True\n",
      "02/10 14:13:17 - mmengine - \u001B[4m\u001B[97mINFO\u001B[0m - Double L_MHRA: True\n",
      "02/10 14:13:17 - mmengine - \u001B[4m\u001B[97mINFO\u001B[0m - Drop path rate: 0.0\n",
      "02/10 14:13:17 - mmengine - \u001B[4m\u001B[97mINFO\u001B[0m - No L_MHRA: True\n",
      "02/10 14:13:17 - mmengine - \u001B[4m\u001B[97mINFO\u001B[0m - Double L_MHRA: True\n",
      "02/10 14:13:17 - mmengine - \u001B[4m\u001B[97mINFO\u001B[0m - Drop path rate: 0.0\n",
      "02/10 14:13:17 - mmengine - \u001B[4m\u001B[97mINFO\u001B[0m - No L_MHRA: True\n",
      "02/10 14:13:17 - mmengine - \u001B[4m\u001B[97mINFO\u001B[0m - Double L_MHRA: True\n",
      "02/10 14:13:18 - mmengine - \u001B[4m\u001B[97mINFO\u001B[0m - Drop path rate: 0.0\n",
      "02/10 14:13:18 - mmengine - \u001B[4m\u001B[97mINFO\u001B[0m - No L_MHRA: True\n",
      "02/10 14:13:18 - mmengine - \u001B[4m\u001B[97mINFO\u001B[0m - Double L_MHRA: True\n",
      "02/10 14:13:18 - mmengine - \u001B[4m\u001B[97mINFO\u001B[0m - Drop path rate: 0.0\n",
      "02/10 14:13:18 - mmengine - \u001B[4m\u001B[97mINFO\u001B[0m - No L_MHRA: True\n",
      "02/10 14:13:18 - mmengine - \u001B[4m\u001B[97mINFO\u001B[0m - Double L_MHRA: True\n",
      "02/10 14:13:18 - mmengine - \u001B[4m\u001B[97mINFO\u001B[0m - Drop path rate: 0.0\n",
      "02/10 14:13:18 - mmengine - \u001B[4m\u001B[97mINFO\u001B[0m - No L_MHRA: True\n",
      "02/10 14:13:18 - mmengine - \u001B[4m\u001B[97mINFO\u001B[0m - Double L_MHRA: True\n",
      "02/10 14:13:18 - mmengine - \u001B[4m\u001B[97mINFO\u001B[0m - Drop path rate: 0.0\n",
      "02/10 14:13:18 - mmengine - \u001B[4m\u001B[97mINFO\u001B[0m - No L_MHRA: True\n",
      "02/10 14:13:18 - mmengine - \u001B[4m\u001B[97mINFO\u001B[0m - Double L_MHRA: True\n",
      "02/10 14:13:18 - mmengine - \u001B[4m\u001B[97mINFO\u001B[0m - Drop path rate: 0.0\n",
      "02/10 14:13:18 - mmengine - \u001B[4m\u001B[97mINFO\u001B[0m - No L_MHRA: True\n",
      "02/10 14:13:18 - mmengine - \u001B[4m\u001B[97mINFO\u001B[0m - Double L_MHRA: True\n",
      "02/10 14:13:18 - mmengine - \u001B[4m\u001B[97mINFO\u001B[0m - Drop path rate: 0.0\n",
      "02/10 14:13:18 - mmengine - \u001B[4m\u001B[97mINFO\u001B[0m - No L_MHRA: True\n",
      "02/10 14:13:18 - mmengine - \u001B[4m\u001B[97mINFO\u001B[0m - Double L_MHRA: True\n",
      "02/10 14:13:18 - mmengine - \u001B[4m\u001B[97mINFO\u001B[0m - Drop path rate: 0.0\n",
      "02/10 14:13:18 - mmengine - \u001B[4m\u001B[97mINFO\u001B[0m - No L_MHRA: True\n",
      "02/10 14:13:18 - mmengine - \u001B[4m\u001B[97mINFO\u001B[0m - Double L_MHRA: True\n",
      "02/10 14:13:18 - mmengine - \u001B[4m\u001B[97mINFO\u001B[0m - Drop path rate: 0.0\n",
      "02/10 14:13:18 - mmengine - \u001B[4m\u001B[97mINFO\u001B[0m - No L_MHRA: True\n",
      "02/10 14:13:18 - mmengine - \u001B[4m\u001B[97mINFO\u001B[0m - Double L_MHRA: True\n",
      "02/10 14:13:18 - mmengine - \u001B[4m\u001B[97mINFO\u001B[0m - Drop path rate: 0.0\n",
      "02/10 14:13:18 - mmengine - \u001B[4m\u001B[97mINFO\u001B[0m - No L_MHRA: True\n",
      "02/10 14:13:18 - mmengine - \u001B[4m\u001B[97mINFO\u001B[0m - Double L_MHRA: True\n",
      "02/10 14:13:18 - mmengine - \u001B[4m\u001B[97mINFO\u001B[0m - Drop path rate: 0.0\n",
      "02/10 14:13:18 - mmengine - \u001B[4m\u001B[97mINFO\u001B[0m - No L_MHRA: True\n",
      "02/10 14:13:18 - mmengine - \u001B[4m\u001B[97mINFO\u001B[0m - Double L_MHRA: True\n",
      "02/10 14:13:18 - mmengine - \u001B[4m\u001B[97mINFO\u001B[0m - Drop path rate: 0.0\n",
      "02/10 14:13:18 - mmengine - \u001B[4m\u001B[97mINFO\u001B[0m - No L_MHRA: True\n",
      "02/10 14:13:18 - mmengine - \u001B[4m\u001B[97mINFO\u001B[0m - Double L_MHRA: True\n",
      "02/10 14:13:18 - mmengine - \u001B[4m\u001B[97mINFO\u001B[0m - Drop path rate: 0.0\n",
      "02/10 14:13:18 - mmengine - \u001B[4m\u001B[97mINFO\u001B[0m - No L_MHRA: True\n",
      "02/10 14:13:18 - mmengine - \u001B[4m\u001B[97mINFO\u001B[0m - Double L_MHRA: True\n",
      "02/10 14:13:18 - mmengine - \u001B[4m\u001B[97mINFO\u001B[0m - Drop path rate: 0.0\n",
      "02/10 14:13:18 - mmengine - \u001B[4m\u001B[97mINFO\u001B[0m - No L_MHRA: True\n",
      "02/10 14:13:18 - mmengine - \u001B[4m\u001B[97mINFO\u001B[0m - Double L_MHRA: True\n",
      "02/10 14:13:18 - mmengine - \u001B[4m\u001B[97mINFO\u001B[0m - Drop path rate: 0.0\n",
      "02/10 14:13:18 - mmengine - \u001B[4m\u001B[97mINFO\u001B[0m - No L_MHRA: True\n",
      "02/10 14:13:18 - mmengine - \u001B[4m\u001B[97mINFO\u001B[0m - Double L_MHRA: True\n",
      "02/10 14:13:18 - mmengine - \u001B[4m\u001B[97mINFO\u001B[0m - Drop path rate: 0.0\n",
      "02/10 14:13:18 - mmengine - \u001B[4m\u001B[97mINFO\u001B[0m - No L_MHRA: True\n",
      "02/10 14:13:18 - mmengine - \u001B[4m\u001B[97mINFO\u001B[0m - Double L_MHRA: True\n",
      "02/10 14:13:18 - mmengine - \u001B[4m\u001B[97mINFO\u001B[0m - Drop path rate: 0.0\n",
      "02/10 14:13:18 - mmengine - \u001B[4m\u001B[97mINFO\u001B[0m - No L_MHRA: True\n",
      "02/10 14:13:18 - mmengine - \u001B[4m\u001B[97mINFO\u001B[0m - Double L_MHRA: True\n",
      "02/10 14:13:19 - mmengine - \u001B[4m\u001B[97mINFO\u001B[0m - Drop path rate: 0.0\n",
      "02/10 14:13:19 - mmengine - \u001B[4m\u001B[97mINFO\u001B[0m - No L_MHRA: True\n",
      "02/10 14:13:19 - mmengine - \u001B[4m\u001B[97mINFO\u001B[0m - Double L_MHRA: True\n",
      "02/10 14:13:19 - mmengine - \u001B[4m\u001B[97mINFO\u001B[0m - Drop path rate: 0.0\n",
      "02/10 14:13:19 - mmengine - \u001B[4m\u001B[97mINFO\u001B[0m - No L_MHRA: True\n",
      "02/10 14:13:19 - mmengine - \u001B[4m\u001B[97mINFO\u001B[0m - Double L_MHRA: True\n",
      "02/10 14:13:19 - mmengine - \u001B[4m\u001B[97mINFO\u001B[0m - Drop path rate: 0.0\n",
      "02/10 14:13:19 - mmengine - \u001B[4m\u001B[97mINFO\u001B[0m - No L_MHRA: True\n",
      "02/10 14:13:19 - mmengine - \u001B[4m\u001B[97mINFO\u001B[0m - Double L_MHRA: True\n",
      "02/10 14:13:19 - mmengine - \u001B[4m\u001B[97mINFO\u001B[0m - Drop path rate: 0.0\n",
      "02/10 14:13:19 - mmengine - \u001B[4m\u001B[97mINFO\u001B[0m - No L_MHRA: True\n",
      "02/10 14:13:19 - mmengine - \u001B[4m\u001B[97mINFO\u001B[0m - Double L_MHRA: True\n",
      "02/10 14:13:19 - mmengine - \u001B[4m\u001B[97mINFO\u001B[0m - Drop path rate: 0.0\n",
      "02/10 14:13:19 - mmengine - \u001B[4m\u001B[97mINFO\u001B[0m - No L_MHRA: True\n",
      "02/10 14:13:19 - mmengine - \u001B[4m\u001B[97mINFO\u001B[0m - Double L_MHRA: True\n",
      "02/10 14:13:19 - mmengine - \u001B[4m\u001B[97mINFO\u001B[0m - Drop path rate: 0.0\n",
      "02/10 14:13:19 - mmengine - \u001B[4m\u001B[97mINFO\u001B[0m - Drop path rate: 0.0\n",
      "02/10 14:13:19 - mmengine - \u001B[4m\u001B[97mINFO\u001B[0m - Drop path rate: 0.0\n",
      "02/10 14:13:19 - mmengine - \u001B[4m\u001B[97mINFO\u001B[0m - Drop path rate: 0.0\n",
      "Loads checkpoint by local backend from path: checkpoints/uniformerv2-large-p14-res224_clip-kinetics710-pre_u8_kinetics600-rgb_20221219-cf88e4c2.pth\n"
     ]
    }
   ]
  },
  {
   "cell_type": "code",
   "execution_count": 10,
   "metadata": {
    "id": "rEMsBnpHapAn",
    "executionInfo": {
     "status": "ok",
     "timestamp": 1707477381138,
     "user_tz": -60,
     "elapsed": 12546,
     "user": {
      "displayName": "Jorge Garcia",
      "userId": "05585416730995504690"
     }
    },
    "ExecuteTime": {
     "end_time": "2024-02-10T13:17:30.330710800Z",
     "start_time": "2024-02-10T13:17:17.284818300Z"
    }
   },
   "outputs": [],
   "source": [
    "# Use the recognizer to do inference\n",
    "from operator import itemgetter\n",
    "video = '../videos/PUSH_UP_SIT_UP.mp4'\n",
    "label = 'mmaction2/tools/data/kinetics/label_map_k600.txt'\n",
    "results = inference_recognizer(model, video)\n",
    "\n",
    "pred_scores = results.pred_score.tolist()\n",
    "score_tuples = tuple(zip(range(len(pred_scores)), pred_scores))\n",
    "score_sorted = sorted(score_tuples, key=itemgetter(1), reverse=True)\n",
    "top5_label = score_sorted[:5]\n",
    "\n",
    "labels = open(label).readlines()\n",
    "labels = [x.strip() for x in labels]\n",
    "results = [(labels[k[0]], k[1]) for k in top5_label]\n"
   ]
  },
  {
   "cell_type": "code",
   "execution_count": 11,
   "metadata": {
    "colab": {
     "base_uri": "https://localhost:8080/"
    },
    "id": "NIyJXqfWathq",
    "outputId": "ee0b9b19-a24d-47f3-f5d0-414690d53f55",
    "executionInfo": {
     "status": "ok",
     "timestamp": 1707477385627,
     "user_tz": -60,
     "elapsed": 217,
     "user": {
      "displayName": "Jorge Garcia",
      "userId": "05585416730995504690"
     }
    },
    "ExecuteTime": {
     "end_time": "2024-02-10T13:17:37.286929400Z",
     "start_time": "2024-02-10T13:17:37.263410200Z"
    }
   },
   "outputs": [
    {
     "name": "stdout",
     "output_type": "stream",
     "text": [
      "The top-5 labels with corresponding scores are:\n",
      "situp:  0.5068127512931824\n",
      "push up:  0.44722211360931396\n",
      "stretching arm:  0.006095241289585829\n",
      "exercising with an exercise ball:  0.0042668539099395275\n",
      "throwing ball (not baseball or American football):  0.0026855794712901115\n"
     ]
    }
   ],
   "source": [
    "print('The top-5 labels with corresponding scores are:')\n",
    "for result in results:\n",
    "    print(f'{result[0]}: ', result[1])"
   ]
  },
  {
   "cell_type": "code",
   "execution_count": 12,
   "outputs": [
    {
     "data": {
      "text/plain": "[('situp', 0.5068127512931824),\n ('push up', 0.44722211360931396),\n ('stretching arm', 0.006095241289585829),\n ('exercising with an exercise ball', 0.0042668539099395275),\n ('throwing ball (not baseball or American football)', 0.0026855794712901115)]"
     },
     "execution_count": 12,
     "metadata": {},
     "output_type": "execute_result"
    }
   ],
   "source": [
    "results"
   ],
   "metadata": {
    "collapsed": false,
    "ExecuteTime": {
     "end_time": "2024-02-10T15:31:26.205316200Z",
     "start_time": "2024-02-10T15:31:26.191317100Z"
    }
   }
  }
 ],
 "metadata": {
  "accelerator": "GPU",
  "colab": {
   "provenance": [
    {
     "file_id": "https://github.com/open-mmlab/mmaction2/blob/master/demo/mmaction2_tutorial.ipynb",
     "timestamp": 1707476069264
    }
   ]
  },
  "kernelspec": {
   "display_name": "mmact_dev",
   "language": "python",
   "name": "python3"
  },
  "language_info": {
   "codemirror_mode": {
    "name": "ipython",
    "version": 3
   },
   "file_extension": ".py",
   "mimetype": "text/x-python",
   "name": "python",
   "nbconvert_exporter": "python",
   "pygments_lexer": "ipython3",
   "version": "3.7.12"
  },
  "vscode": {
   "interpreter": {
    "hash": "189c342a4747645665e89db23000ac4d4edb7a87c4cd0b2f881610f468fb778d"
   }
  }
 },
 "nbformat": 4,
 "nbformat_minor": 0
}
