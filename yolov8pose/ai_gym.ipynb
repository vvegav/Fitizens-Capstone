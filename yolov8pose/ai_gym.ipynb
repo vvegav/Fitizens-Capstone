{
 "cells": [
  {
   "cell_type": "code",
   "execution_count": 2,
   "outputs": [],
   "source": [
    "from ultralytics import YOLO\n",
    "from ultralytics.solutions import ai_gym\n",
    "import cv2"
   ],
   "metadata": {
    "collapsed": false,
    "ExecuteTime": {
     "end_time": "2024-02-24T12:09:02.742356Z",
     "start_time": "2024-02-24T12:08:43.571985700Z"
    }
   },
   "id": "9dbb9898cf1bc295"
  },
  {
   "cell_type": "code",
   "execution_count": 5,
   "id": "initial_id",
   "metadata": {
    "collapsed": true,
    "ExecuteTime": {
     "end_time": "2024-02-24T12:16:09.933584100Z",
     "start_time": "2024-02-24T12:14:40.247509Z"
    }
   },
   "outputs": [
    {
     "name": "stdout",
     "output_type": "stream",
     "text": [
      "Video frame is empty or video processing has been successfully completed.\n"
     ]
    }
   ],
   "source": [
    "model = YOLO(\"yolov8n-pose.pt\")\n",
    "cap = cv2.VideoCapture(\"../videos/PULL_UP.mp4\")\n",
    "assert cap.isOpened(), \"Error reading video file\"\n",
    "w, h, fps = (int(cap.get(x)) for x in (cv2.CAP_PROP_FRAME_WIDTH, cv2.CAP_PROP_FRAME_HEIGHT, cv2.CAP_PROP_FPS))\n",
    "\n",
    "video_writer = cv2.VideoWriter(\"workouts.avi\",\n",
    "                                cv2.VideoWriter_fourcc(*'mp4v'),\n",
    "                                fps,\n",
    "                                (w, h))\n",
    "\n",
    "gym_object = ai_gym.AIGym()  # init AI GYM module\n",
    "gym_object.set_args(line_thickness=2,\n",
    "                    view_img=True,\n",
    "                    pose_type=\"pullup\",\n",
    "                    kpts_to_check=[6, 8, 10])\n",
    "\n",
    "frame_count = 0\n",
    "while cap.isOpened():\n",
    "    success, im0 = cap.read()\n",
    "    if not success:\n",
    "      print(\"Video frame is empty or video processing has been successfully completed.\")\n",
    "      break\n",
    "    frame_count += 1\n",
    "    results = model.predict(im0, verbose=False)\n",
    "    im0 = gym_object.start_counting(im0, results, frame_count)\n",
    "    video_writer.write(im0)\n",
    "\n",
    "cv2.destroyAllWindows()\n",
    "video_writer.release()"
   ]
  }
 ],
 "metadata": {
  "kernelspec": {
   "display_name": "Python 3",
   "language": "python",
   "name": "python3"
  },
  "language_info": {
   "codemirror_mode": {
    "name": "ipython",
    "version": 2
   },
   "file_extension": ".py",
   "mimetype": "text/x-python",
   "name": "python",
   "nbconvert_exporter": "python",
   "pygments_lexer": "ipython2",
   "version": "2.7.6"
  }
 },
 "nbformat": 4,
 "nbformat_minor": 5
}
